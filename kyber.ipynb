{
 "cells": [
  {
   "cell_type": "markdown",
   "metadata": {
    "jp-MarkdownHeadingCollapsed": true,
    "tags": []
   },
   "source": [
    "# Simplified Kyber - Beispiel mit Implementierung in Python\n",
    "\n",
    "## 1.1 Was ist Kyber?\n",
    "- Gewinner der NIST-Ausschreibung für PQC-Verfahren (Post-quantum cryptography)\n",
    "    - Begründung für den Sieg: \"comparatively small encryption keys \\[...\\] its speed of operation.\"\n",
    "- Ist Teil der \"Cryptographic Suite for Algebraic Lattices\" (CRYSTALS), CRYSTALS-Dilithium (PQ-Signatur-Verfahren), ebenfalls Gewinner in der NIST-Ausschreibung\n",
    "- Public Key Encryption System -> Key-Paare\n",
    "- KEM -> Key encapsulation mechanism (Verschlüsselung von symmetrischen Schlüsseln)\n",
    "    - Genaue Spezifikation heißt \"IND-CCA2-secure key-encapsulation mechanism\"\n",
    "    - \"Indistinguishability under adaptive chosen ciphertext attack\"\n",
    "- Sicherheit von Kyber basiert auf dem MLWE-Problem (Module learning with errors)\n",
    "- Praktischer Einsatz möglich trotz längerer Schlüssel, immernoch weniger als andere PQC-Finalisten\n",
    "    - Vgl. Classic McEliece -> Key size: > 1MB\n",
    "- Die Operationen auf dem Polynomring (Multiplikation von großen Integern und Polynomen mit hohem Grad) lassen sich mit Hilfe von NTT (Number theoretic transforms) sehr stark optimieren \n",
    "    \n",
    "### 1.2 Schlüssellängen\n",
    "Version | Sicherheitslevel | Private Key | Public Key | Ciphertext \n",
    ":-: | :-: | :-: | :-: | :-: \n",
    "**Kyber512** | AES128 | 1632 | 800 | 768 \n",
    "**Kyber768** | AES192 | 2400 | 1184 | 1088  \n",
    "**Kyber1024** | AES256 |3168 | 1568 | 1568 \n",
    "**RSA3072** | AES128 | 384 | 384 | 384 \n",
    "**RSA15360** | AES256 | 1920 | 1920 | 1920 \n",
    "\n",
    "*Größenangaben sind in Byte\n",
    "\n",
    "## Mathematische Vorraussetzungen\n",
    "- Alle Berechnungen finden in dem Polynomring $R = \\mathbb{Z}[X]/(X^n + 1)$ und $R_q = \\mathbb{Z_q}[X]/(X^n + 1)$, wobei $n = 256$ und $q = 7681$ ist.\n",
    "- Jedes Polynom $p \\in R_q$ kann wie folgt dargestellt werden:\n",
    "$p = (\\sum_{i=0}^{n-1} a_i * x^i) mod q$\n",
    "\n",
    "## Module learning with errors\n",
    "Einfach zu lösen ist das Problem:\n",
    "Gegeben sei $A \\in R_q^{kxk}$ mit zufällig gewählten Polynomen und $a_{i,j} \\in R_q^{kx1}$ mit $i, j \\in \\{0, k-1\\}$, dann lässt sich <br><br>\n",
    "$\\begin{pmatrix} a_{1,1} & \\dots & a_{1,k} \\\\ \\vdots & \\ddots & \\vdots \\\\ a_{k,1} & \\dots & a_{k,k} \\end{pmatrix}$ $\\begin{pmatrix} s_1 \\\\ \\vdots \\\\ s_k \\end{pmatrix}$ $=$\n",
    "$\\begin{pmatrix} t_1 \\\\ \\vdots \\\\ t_k \\end{pmatrix}$ <br><br>\n",
    "der Vektor $s$ mit dem gaußschen Eliminationsverfahren in $O(n^3)$ berechnen. Das Problem wird unverhältismäßig schwierig, wenn man noch einen Error-vektor $e$ mit \"kleinen\" Koeffizienten dazunimmt. Sei nun $e \\in R_q^{kx1}$ mit zufällig gewählten \"kleinen\" Polynomen, dann nimmt man an, dass man $t$ mit <br><br>\n",
    "$\\begin{pmatrix} a_{1,1} & \\dots & a_{1,k} \\\\ \\vdots & \\ddots & \\vdots \\\\ a_{k,1} & \\dots & a_{k,k} \\end{pmatrix}$ $\\begin{pmatrix} s_1 \\\\ \\vdots \\\\ s_k \\end{pmatrix}$ $+$\n",
    "$\\begin{pmatrix} e_1 \\\\ \\vdots \\\\ e_k \\end{pmatrix}$ $=$\n",
    "$\\begin{pmatrix} t_1 \\\\ \\vdots \\\\ t_k \\end{pmatrix}$ <br><br>\n",
    "nicht mehr in polynomieller Laufzeit bestimmen kann. Über einen nicht trivialen Beweis lässt sich dieses Problem in das SVP (Shortest vector problem) überführen, von dem man weiß, dass dieses selbst für Quantencomputer NP-hard ist.\n",
    "\n",
    "## Unterschiede zum regulärem Kyber:\n",
    "- Kleinere Parameter für bessere Lesbarkeit\n",
    "- Kompression des Chiffretexts - beinflusst nicht das zugrundeliegende Kryptosystem"
   ]
  },
  {
   "cell_type": "markdown",
   "metadata": {},
   "source": [
    "# Key Generation\n",
    "## 1. Modul $q$, mit $q$ ist eine Primzahl\n",
    "> #### Warum ist $q = 3329$?\n",
    "> - Initial wurde $q$ mit 7681 angesetzt um die Bedigung $q$ $mod$ $2n = 1$ zu erfüllen (Ermöglicht Optimierungen bei der Multiplikation)\n",
    "> - In der 2. Runde wechselte man zu 3329, da man herausfand, dass auch $q$ $mod$ $n = 1$ reicht um gleiche, bzw. bessere Performance zu erreichen"
   ]
  },
  {
   "cell_type": "markdown",
   "metadata": {},
   "source": [
    "Es wird $q = 17$ gesetzt und weil viel mit Polynomen gerechnet, Darstellung als Polynom: $f = x^4 + 1$. <br>\n",
    "Für die Multiplikation von Zahlen wird $q$ und für die Multiplikation mit Polynomen wird $f$ verwendet.\n"
   ]
  },
  {
   "cell_type": "code",
   "execution_count": 1,
   "metadata": {
    "tags": []
   },
   "outputs": [
    {
     "name": "stdout",
     "output_type": "stream",
     "text": [
      "q:  17\n",
      "f:  Poly(x**4 + 1, x, modulus=17)\n",
      "GF(17)\n"
     ]
    }
   ],
   "source": [
    "from sympy import Poly\n",
    "from sympy.abc import x, y\n",
    "from sympy import GF\n",
    "from sympy import QQ\n",
    "import sympy as S \n",
    "import numpy as np\n",
    "import math\n",
    "import decimal\n",
    "\n",
    "q = 17 # Modul\n",
    "dom = GF(q, symmetric=False) # Galoisfeld als endlicher Zahlenkoerper\n",
    "f = Poly(1 + x**4, domain=dom) # Binäre Representation von Q als Polynom\n",
    "zero = Poly(0, x, domain=dom)\n",
    "print('q: ', q)\n",
    "print('f: ', f)\n",
    "print(dom)\n",
    "\n",
    "decimal.getcontext().rounding = decimal.ROUND_HALF_UP\n",
    "def round(number):\n",
    "    return int(decimal.Decimal(number).to_integral_value())"
   ]
  },
  {
   "cell_type": "markdown",
   "metadata": {},
   "source": [
    "## 2. Private key $s$\n",
    "Sei $s = \\begin{pmatrix} -x^3-x^2+x \\\\ -x^3-x \\end{pmatrix}$"
   ]
  },
  {
   "cell_type": "code",
   "execution_count": 2,
   "metadata": {},
   "outputs": [
    {
     "name": "stdout",
     "output_type": "stream",
     "text": [
      "s:  [[Poly(-x**3 - x**2 + x, x, domain='ZZ')]\n",
      " [Poly(-x**3 - x, x, domain='ZZ')]] \n",
      "s-dimension:  (2, 1)\n"
     ]
    }
   ],
   "source": [
    "s = np.array([[Poly(-x**3 - x**2 + x)], [Poly(-x**3 - x)]])\n",
    "print('s: ', s, '\\ns-dimension: ', s.shape) # Spaltenvektor"
   ]
  },
  {
   "cell_type": "markdown",
   "metadata": {},
   "source": [
    "## 3. Public key $(A, t)$\n",
    "Sei $A = \\begin{pmatrix} 6x^3+16x^2+16x+11 & 9x^3+4x^2+6x+3 \\\\ 5x^3+3x^2+10x+1 & 6x^3+x^2+9x+15 \\end{pmatrix}$ <br><br>\n",
    "$e = \\begin{pmatrix} x^2 \\\\ x^2 - x\\end{pmatrix}$ <br><br>\n",
    "$t = As + e = \\begin{pmatrix} 16x^3+15x^2+7 \\\\ 10x^3+12x^2+11x+6 \\end{pmatrix}$"
   ]
  },
  {
   "cell_type": "code",
   "execution_count": 3,
   "metadata": {},
   "outputs": [
    {
     "name": "stdout",
     "output_type": "stream",
     "text": [
      "A:  [[Poly(6*x**3 + 16*x**2 + 16*x + 11, x, modulus=17)\n",
      "  Poly(9*x**3 + 4*x**2 + 6*x + 3, x, modulus=17)]\n",
      " [Poly(5*x**3 + 3*x**2 + 10*x + 1, x, modulus=17)\n",
      "  Poly(6*x**3 + x**2 + 9*x + 15, x, modulus=17)]] \n",
      "A-dimension:  (2, 2)\n",
      "e:  [[Poly(x**2, x, domain='ZZ')]\n",
      " [Poly(x**2 - x, x, domain='ZZ')]] \n",
      "e-dimension:  (2, 1)\n"
     ]
    }
   ],
   "source": [
    "A = np.array([[Poly(6*x**3 + 16*x**2 + 16*x + 11, domain=dom), Poly(9*x**3 + 4*x**2 + 6*x + 3, domain=dom)],\n",
    "                [Poly(5*x**3 + 3*x**2 + 10*x + 1, domain=dom), Poly(6*x**3 + 1*x**2 + 9*x + 15, domain=dom)]])\n",
    "print('A: ', A, '\\nA-dimension: ', A.shape)\n",
    "\n",
    "e = np.array([[Poly(x**2)], [Poly(x**2 - x)]])\n",
    "print('e: ', e, '\\ne-dimension: ', e.shape)"
   ]
  },
  {
   "cell_type": "code",
   "execution_count": 4,
   "metadata": {},
   "outputs": [
    {
     "name": "stdout",
     "output_type": "stream",
     "text": [
      "A:  [[Poly(6*x**3 + 16*x**2 + 16*x + 11, x, modulus=17)\n",
      "  Poly(9*x**3 + 4*x**2 + 6*x + 3, x, modulus=17)]\n",
      " [Poly(5*x**3 + 3*x**2 + 10*x + 1, x, modulus=17)\n",
      "  Poly(6*x**3 + x**2 + 9*x + 15, x, modulus=17)]] \n",
      "A-dimension:  (2, 2)\n",
      "t:  [[Poly(16*x**3 + 15*x**2 + 7, x, modulus=17)]\n",
      " [Poly(10*x**3 + 12*x**2 + 11*x + 6, x, modulus=17)]] \n",
      "t-dimension:  (2, 1)\n",
      "s:  [[Poly(-x**3 - x**2 + x, x, domain='ZZ')]\n",
      " [Poly(-x**3 - x, x, domain='ZZ')]] \n",
      "s-dimension:  (2, 1)\n"
     ]
    }
   ],
   "source": [
    "def poly_mul(x, y): \n",
    "    rows = x.shape[0]\n",
    "    cols = y.shape[1]\n",
    "    y_rows = y.shape[0]\n",
    "    result = np.full((rows, cols), zero) # Array mit 0 initialisieren\n",
    "    for i in range(rows):\n",
    "        for j in range(cols):\n",
    "            for k in range(y_rows):\n",
    "                result[i][j] = result[i][j].add((x[i][k].mul(y[k][j]))) # Skalarprodukt\n",
    "            result[i][j] = result[i][j].rem(f) # Modulo Polynom F\n",
    "            result[i][j] = Poly(result[i][j], domain=dom) # Modulo Primzahl Q\n",
    "    return result\n",
    "\n",
    "def poly_add(x, y):\n",
    "    rows = x.shape[0]\n",
    "    cols = y.shape[1]\n",
    "    result = np.empty((rows, cols), Poly)\n",
    "    for i in range(rows):\n",
    "        for j in range(cols):\n",
    "            result[i][j] = Poly(x[i][j].add(y[i][j]), domain=dom) # Modulo Primzahl Q\n",
    "    return result\n",
    "\n",
    "def poly_sub(x, y):\n",
    "    rows = x.shape[0]\n",
    "    cols = y.shape[1]\n",
    "    result = np.empty((rows, cols), Poly)\n",
    "    for i in range(rows):\n",
    "        for j in range(cols):\n",
    "            result[i][j] = Poly(x[i][j].sub(y[i][j]), domain=dom) # Modulo Primzahl Q\n",
    "    return result\n",
    "\n",
    "t = poly_mul(A, s)\n",
    "t = poly_add(t, e)\n",
    "\n",
    "pk = (A,t)\n",
    "sk = s\n",
    "\n",
    "print('A: ', A, '\\nA-dimension: ', A.shape)\n",
    "print('t: ', t, '\\nt-dimension: ', t.shape)\n",
    "print('s: ', s, '\\ns-dimension: ', s.shape)\n"
   ]
  },
  {
   "cell_type": "markdown",
   "metadata": {},
   "source": [
    "# Encryption\n",
    "Wie üblich in Kryptosystemen, wird eine Nachricht $m$ mit einem Public Key verschlüsselt. Zusätzlich zu dem PK-Tupel $(A, t)$ werden auch noch ein Error- und Zufalls-Polynom-Vektoren $e_1$ und $r$ benötigt, welche für jede Verschlüsselung zufällig neu generiert werden. Außerdem braucht man noch ein Error-Polynom $e_2$. \n",
    "\n",
    "$r = \\begin{pmatrix} -x^3 + x^2 \\\\ x^3 + x^2 - 1 \\end{pmatrix}$ <br>\n",
    "$e_1 = \\begin{pmatrix} x^2 + x \\\\ x^2 \\end{pmatrix}$ <br>\n",
    "$e_2 = -x^3 -x^2$ <br>"
   ]
  },
  {
   "cell_type": "code",
   "execution_count": 5,
   "metadata": {},
   "outputs": [
    {
     "name": "stdout",
     "output_type": "stream",
     "text": [
      "r:  [[Poly(-x**3 + x**2, x, domain='ZZ')]\n",
      " [Poly(x**3 + x**2 - 1, x, domain='ZZ')]] \n",
      "r-dimension:  (2, 1)\n",
      "e1:  [[Poly(x**2 + x, x, domain='ZZ')]\n",
      " [Poly(x**2, x, domain='ZZ')]] \n",
      "e1-dimension:  (2, 1)\n",
      "e2:  Poly(-x**3 - x**2, x, domain='ZZ')\n"
     ]
    }
   ],
   "source": [
    "r = np.array([[Poly(-x**3 + x**2)], [Poly(x**3 + x**2 - 1)]])\n",
    "e_one = np.array([[Poly(x**2 + x)], [Poly(x**2)]])\n",
    "e_two = Poly(-x**3 - x**2)\n",
    "print('r: ', r, '\\nr-dimension: ', r.shape)\n",
    "print('e1: ', e_one, '\\ne1-dimension: ', e_one.shape)\n",
    "print('e2: ', e_two)"
   ]
  },
  {
   "cell_type": "markdown",
   "metadata": {},
   "source": [
    "Um eine Nachricht $m$ zu verschlüsseln bringt man diese erst in Binärdarstellung und verwendet die Bits als Koeffizienten. <br>\n",
    "$m = 11$, $(11)_{10} = (1011)_{2}$ <br>\n",
    "$m_b = 1x^3 + 0x^2 + 1x^2 + 1x^0 = x^3 + x + 1$ <br> <br>"
   ]
  },
  {
   "cell_type": "code",
   "execution_count": 6,
   "metadata": {},
   "outputs": [
    {
     "name": "stdout",
     "output_type": "stream",
     "text": [
      "[1 0 1 1]\n"
     ]
    }
   ],
   "source": [
    "m = 11\n",
    "mb = np.array([int(x) for x in np.binary_repr(m)])\n",
    "print(mb)"
   ]
  },
  {
   "cell_type": "markdown",
   "metadata": {},
   "source": [
    "Die Nachricht als Binärpolynom muss nun noch um den Faktor $\\lfloor \\frac{q}{2} \\rceil$ hochskaliert werden.  <br>\n",
    "$m_{bs} = \\lfloor \\frac{q}{2} \\rceil * m_b = 9 * m_b = 9x^3 + 9x + 9$ <br>\n",
    "Warum man die Nachricht skaliert, wird bei der Entschlüsselung ersichtlich."
   ]
  },
  {
   "cell_type": "code",
   "execution_count": 7,
   "metadata": {},
   "outputs": [
    {
     "name": "stdout",
     "output_type": "stream",
     "text": [
      "Poly(9*x**3 + 9*x + 9, x, domain='ZZ')\n"
     ]
    }
   ],
   "source": [
    "mbs = round(q/2) * mb\n",
    "mbs_poly = Poly(mbs, x)\n",
    "print(mbs_poly)"
   ]
  },
  {
   "cell_type": "markdown",
   "metadata": {},
   "source": [
    "Das Ergebnis der eigentlichen Verschlüsselung, also der Chiffretext $c$, besteht aus dem Tupel $c = (u, v)$.<br>\n",
    "$u^T = r^T A + e_1^T$<br>\n",
    "$v = r^T t + e_2 + m_{bs}$<br>\n",
    "\n",
    "$u = \\begin{pmatrix} 11x^3 + 11x^2 + 10x + 3 \\\\ 4x^3 + 4x^2 + 13x + 11 \\end{pmatrix}$ <br>\n",
    "$v = 8x^3 + 6x^2 + 9x + 16$\n"
   ]
  },
  {
   "cell_type": "code",
   "execution_count": 8,
   "metadata": {},
   "outputs": [
    {
     "name": "stdout",
     "output_type": "stream",
     "text": [
      "u:  [[Poly(11*x**3 + 11*x**2 + 10*x + 3, x, modulus=17)]\n",
      " [Poly(4*x**3 + 4*x**2 + 13*x + 11, x, modulus=17)]] \n",
      "u-dimension:  (2, 1)\n",
      "v:  [[Poly(8*x**3 + 6*x**2 + 9*x + 16, x, modulus=17)]]\n"
     ]
    }
   ],
   "source": [
    "u = poly_add(poly_mul(r.transpose(), A), e_one.transpose()).transpose()\n",
    "print('u: ', u, '\\nu-dimension: ', u.shape)\n",
    "# [0][0], da das Polynom in einem 1x1 Vektor steht und man das tatsächlich Polynom zur weiteren Berechnung benötigt\n",
    "v = np.array([[Poly(poly_mul(r.transpose(), t)[0][0] + e_two + mbs_poly, domain=dom)]])\n",
    "print('v: ', v)"
   ]
  },
  {
   "cell_type": "markdown",
   "metadata": {},
   "source": [
    "# Decryption\n",
    "Die Entschlüsselung kann nun nur die Persion durchführen, welche den SK $s$ kennt. Um die verschlüsselte Nachricht $c = (u,v)$ nun zu entschlüsseln muss man folgendes berechnen\\: <br>\n",
    "$m_n = v - u * s$ <br>\n",
    "$\\Leftrightarrow m_n = r^T * t + e_2 + m_{bs} - (r^T * A + e_1^T)*s$ <br>\n",
    "$\\Leftrightarrow m_n = r^T * (A * s + e) + e_2 + m_{bs} - (r^T * A + e_1^T)*s$ <br>\n",
    "$\\Leftrightarrow m_n = r^T * A * s + r^T * e + e_2 + m_{bs} - r^T * A * s - e_1^T *s$ <br>\n",
    "$\\Leftrightarrow m_n = r^T * e + e_2 + m_{bs} - e_1^T *s$ <br>\n",
    "\n",
    "Jetzt ist auch vielleicht ersichtlich warum man die Nachricht hochskaliert hat. In $m_n$ sind die Koeffizienten aller Terme ,außer $m_{bs}$, klein. Also kann man die Nachricht selbst mit dem Störsignal $r^T * e + e_2 - e_1^T *s$ wiederherstellen, indem man für jeden Koeffizienten schaut ob dieser näher an $\\lfloor \\frac{q}{2} \\rceil$ oder an 0, bzw. $q$ ist."
   ]
  },
  {
   "cell_type": "code",
   "execution_count": 9,
   "metadata": {},
   "outputs": [
    {
     "name": "stdout",
     "output_type": "stream",
     "text": [
      "mn:  Poly(8*x**3 + 14*x**2 + 8*x + 6, x, modulus=17)\n"
     ]
    }
   ],
   "source": [
    "mn = poly_sub(v, poly_mul(s.transpose(), u))[0][0]\n",
    "print('mn: ', mn)"
   ]
  },
  {
   "cell_type": "markdown",
   "metadata": {},
   "source": [
    "## Wiederherstellen der Nachricht\n",
    "$\\lfloor \\frac{q}{2} \\rceil = 9$ <br>\n",
    "$q = 17$ <br>\n",
    "$m_n = 8x^3 + 14x^2 + 8x + 6$\n",
    "\n",
    "- 8, näher an 9 als an 0/q, nach 9 runden\n",
    "- 14, näher an q als an 9, nach 0 runden\n",
    "- 8, näher an 9 als an 0/q, nach 9 runden\n",
    "- 6, näher an 9 als an 0/q, nach 9 runden\n",
    "\n",
    "Man erhält also: <br>\n",
    "$m_{bs} = 9x^3 + 9x + 9$ <br>\n",
    "$m_{bs} = \\lfloor \\frac{q}{2} \\rceil * m_b$ <br>\n",
    "$m_b = 1x^3 + 0x^2 + 1x + 1$\n",
    "Aus $m_b$ kann man nun die Bits der originalen Nachricht wieder ablesen und man erhält m = $(1011)_{10}$ = $(11)_2$."
   ]
  },
  {
   "cell_type": "markdown",
   "metadata": {},
   "source": [
    "# Zusammenfassung\n",
    "- Vorteil von Gitter-basierten Encryption schemes ist, dass diese sehr schnell sind, besonders im Vgl. zu anderen PQC-Verfahren"
   ]
  },
  {
   "cell_type": "markdown",
   "metadata": {},
   "source": [
    "# Quellen\n",
    "- https://cryptopedia.dev/posts/kyber/\n",
    "- https://pq-crystals.org/kyber/\n",
    "- https://pq-crystals.org/kyber/data/kyber-specification-round2.pdf\n",
    "- https://github.com/VadimLyubash/non-app-KyberSaber/blob/main/non-app.pdf\n",
    "\n",
    "https://www.nist.gov/news-events/news/2022/07/nist-announces-first-four-quantum-resistant-cryptographic-algorithms\n",
    "https://github.com/VadimLyubash/non-app-KyberSaber/blob/main/non-app.pdf\n",
    "https://pq-crystals.org/kyber/data/slides-nistpqc19-schwabe.pdf\n",
    "https://pq-crystals.org/kyber/data/slides-nistpqc18-schwabe.pdf\n",
    "https://lukas-prokop.at/articles/2020-07-10-pqcrypto-performance\n",
    "https://eprint.iacr.org/2016/504.pdf\n",
    "https://pq-crystals.org/kyber/data/kyber-specification-round3-20210131.pdf"
   ]
  },
  {
   "cell_type": "code",
   "execution_count": null,
   "metadata": {},
   "outputs": [],
   "source": []
  },
  {
   "cell_type": "code",
   "execution_count": null,
   "metadata": {},
   "outputs": [],
   "source": []
  },
  {
   "cell_type": "code",
   "execution_count": null,
   "metadata": {},
   "outputs": [],
   "source": []
  },
  {
   "cell_type": "code",
   "execution_count": null,
   "metadata": {},
   "outputs": [],
   "source": []
  }
 ],
 "metadata": {
  "kernelspec": {
   "display_name": "Python 3 (ipykernel)",
   "language": "python",
   "name": "python3"
  },
  "language_info": {
   "codemirror_mode": {
    "name": "ipython",
    "version": 3
   },
   "file_extension": ".py",
   "mimetype": "text/x-python",
   "name": "python",
   "nbconvert_exporter": "python",
   "pygments_lexer": "ipython3",
   "version": "3.10.2"
  }
 },
 "nbformat": 4,
 "nbformat_minor": 4
}
